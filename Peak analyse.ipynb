{
 "cells": [
  {
   "cell_type": "code",
   "execution_count": 1,
   "id": "9da117ad",
   "metadata": {},
   "outputs": [],
   "source": [
    "from os import listdir\n",
    "from os.path import isfile, join\n",
    "import re\n",
    "import numpy as np\n",
    "import matplotlib.pyplot as plt\n",
    "from scipy.optimize import curve_fit\n",
    "import math as math\n",
    "from scipy.optimize import minimize\n",
    "import scipy.stats as ss\n",
    "from scipy.signal import find_peaks \n",
    "from matplotlib import rc\n",
    "import codecs\n",
    "\n",
    "SMALL_SIZE = 14\n",
    "MEDIUM_SIZE = 16\n",
    "BIGGER_SIZE = 20\n",
    "\n",
    "plt.rc('text', usetex=True)\n",
    "plt.rc('font', family='serif')\n",
    "plt.rc('font', size=SMALL_SIZE)          # controls default text sizes\n",
    "plt.rc('axes', titlesize=BIGGER_SIZE)     # fontsize of the axes title\n",
    "plt.rc('axes', labelsize=MEDIUM_SIZE)    # fontsize of the x and y labels\n",
    "plt.rc('xtick', labelsize=SMALL_SIZE)    # fontsize of the tick labels\n",
    "plt.rc('ytick', labelsize=SMALL_SIZE)    # fontsize of the tick labels\n",
    "plt.rc('legend', fontsize=SMALL_SIZE)    # legend fontsize\n",
    "plt.rc('figure', titlesize=BIGGER_SIZE)  # fontsize of the figure title\n",
    "\n",
    "#en figur der fylder en kolonne har bredde 5,8, f.eks: fig, ax= plt.subplots(figsize=(5.8,4))\n",
    "#en figur der fylder to kolonner har dobbeltbredde??"
   ]
  },
  {
   "cell_type": "code",
   "execution_count": 2,
   "id": "83ecc364",
   "metadata": {},
   "outputs": [],
   "source": [
    "#til at slå op i masses.dat\n",
    "data = np.transpose(np.loadtxt(\"masses.txt\"))\n",
    "\n",
    "N=data[0]\n",
    "Z=data[1]\n",
    "A=data[2]\n",
    "massExcess=data[3]\n",
    "bEPrNkl=data[4]\n",
    "\n",
    "mp = 938.272\n",
    "me = 0.510998\n",
    "mn = 939.565\n",
    "\n",
    "def me2(a, z):\n",
    "    a_indices = np.where(A == a)\n",
    "    z_indices = np.where(Z == z)\n",
    "    a = lambda: print('Could not find mass excess for given numbers')\n",
    "    for i in range(len(a_indices[0])):\n",
    "        if np.any(z_indices[0] == a_indices[0][i]):\n",
    "            me = massExcess[a_indices[0][i]]/1000\n",
    "            a = lambda: me\n",
    "    return a()\n",
    "\n",
    "def m2(a,z): \n",
    "    return a*931.49410242+me2(a,z)"
   ]
  },
  {
   "cell_type": "code",
   "execution_count": 3,
   "id": "20de12df",
   "metadata": {},
   "outputs": [],
   "source": [
    "def factor(m1, m2, t): #t er lab scatteringvinkel i radianer.\n",
    "    mr = m1*m2/(m1+m2)\n",
    "    \n",
    "    def toSolve(x):\n",
    "        return 1/np.tan(x)+m1/m2*1/np.sin(x)-1/np.tan(t)\n",
    "    \n",
    "    vinkelCOM = fsolve(toSolve,t) #brug t som startgæt til fsolve\n",
    "    \n",
    "    return mr**2*(1/m1**2+1/m2**2+2/(m1*m2)*np.cos(vinkelCOM))"
   ]
  },
  {
   "cell_type": "code",
   "execution_count": 4,
   "id": "ad3dd4fd",
   "metadata": {},
   "outputs": [],
   "source": [
    "#beregn Tb ud fra 11.5 i Krane\n",
    "def Tb(t,Ta):\n",
    "    mY=m2(27,13)\n",
    "    ma=mp\n",
    "    mb=mp\n",
    "    return np.power((np.sqrt(ma*mb*Ta)*np.cos(t)+np.sqrt((ma*mb*Ta*np.cos(t)**2+(mY+mb)*(mY-ma)*Ta)))/(mY+mb),2)"
   ]
  },
  {
   "cell_type": "code",
   "execution_count": 5,
   "id": "1de163d2",
   "metadata": {},
   "outputs": [],
   "source": [
    "vinkler = np.linspace(0,180,1000)\n",
    "factors = []\n",
    "\n",
    "mypath = \"peaks\"\n",
    "peaktxts = [f for f in listdir(mypath) if isfile(join(mypath, f))]"
   ]
  },
  {
   "cell_type": "code",
   "execution_count": null,
   "id": "625d54cc",
   "metadata": {},
   "outputs": [],
   "source": []
  },
  {
   "cell_type": "code",
   "execution_count": 6,
   "id": "538bc3ba",
   "metadata": {},
   "outputs": [],
   "source": [
    "thetas = []\n",
    "peakpos = []\n",
    "energies = []\n",
    "pointsToFit = []\n",
    "anglesToFit = []\n",
    "errorsToFit = []\n",
    "fitindex = 0\n",
    "\n",
    "for i in range(len(peaktxts)):\n",
    "    energyGV = int(''.join(filter(str.isdigit, peaktxts[i])))\n",
    "    energies.append(energyGV)\n",
    "    adress = \"peaks/\" + peaktxts[i]\n",
    "    data = np.transpose(np.loadtxt(adress,skiprows=1))\n",
    "    thetas.append(data[0])\n",
    "    peakpos.append(data[1])\n",
    "    fittingGV = []\n",
    "    fittingTheta = []\n",
    "    fittingError = []\n",
    "    distance = 0.015*energyGV\n",
    "    for k in range(len(data[1])):\n",
    "        theta = data[0][k]\n",
    "        energyScatter = data[1][k]\n",
    "        energyError = data[2][k]\n",
    "        if(np.abs(energyScatter - Tb(theta/360*2*np.pi,energyGV)) <= distance):\n",
    "            fittingGV.append(energyScatter)\n",
    "            fittingTheta.append(theta)\n",
    "            fittingError.append(energyError)\n",
    "    pointsToFit.append(fittingGV)\n",
    "    anglesToFit.append(fittingTheta)\n",
    "    errorsToFit.append(fittingError)"
   ]
  },
  {
   "cell_type": "code",
   "execution_count": 7,
   "id": "038ad88b",
   "metadata": {},
   "outputs": [
    {
     "data": {
      "text/plain": [
       "Text(0.5, 1.0, 'Energy: 2001 keV')"
      ]
     },
     "execution_count": 7,
     "metadata": {},
     "output_type": "execute_result"
    },
    {
     "data": {
      "image/png": "[encoded data removed]",
      "text/plain": [
       "<Figure size 640x480 with 1 Axes>"
      ]
     },
     "metadata": {
      "needs_background": "light"
     },
     "output_type": "display_data"
    }
   ],
   "source": [
    "i = 1\n",
    "plt.figure(figsize=(8, 6), dpi=80)\n",
    "plt.plot(thetas[i],peakpos[i], '.', alpha=1)\n",
    "#plt.plot(vinkler,2000*np.array(factors))\n",
    "plt.plot(vinkler,Tb(vinkler/360*2*np.pi,energies[i]))\n",
    "plt.plot(anglesToFit[i],pointsToFit[i], '.')\n",
    "plt.ylim(energies[i]-1000,energies[i])\n",
    "plt.title('Energy: ' + str(energies[i]) + ' keV')"
   ]
  },
  {
   "cell_type": "code",
   "execution_count": 8,
   "id": "a476240e",
   "metadata": {},
   "outputs": [],
   "source": [
    "gvE = []\n",
    "mE = []\n",
    "mEerr = []\n",
    "\n",
    "for i in range(len(energies)):\n",
    "    popt, pcov = curve_fit(Tb,2*np.pi/360*np.array(anglesToFit[i]),pointsToFit[i],energies[i], sigma=errorsToFit[i],absolute_sigma=True)\n",
    "    gvE.append(energies[i]/1.17)\n",
    "    mE.append(popt[0])\n",
    "    mEerr.append(np.sqrt(pcov[0][0]))"
   ]
  },
  {
   "cell_type": "code",
   "execution_count": 9,
   "id": "5702a8a4",
   "metadata": {},
   "outputs": [
    {
     "data": {
      "text/plain": [
       "[[0.473853,\n",
       "  1.440602,\n",
       "  0.227697,\n",
       "  0.147464,\n",
       "  0.158757,\n",
       "  0.64522,\n",
       "  0.144388,\n",
       "  0.388359,\n",
       "  2.217815,\n",
       "  0.186989,\n",
       "  0.118049,\n",
       "  0.924213,\n",
       "  0.157486,\n",
       "  1.399054,\n",
       "  0.126352,\n",
       "  0.528286,\n",
       "  1.614644,\n",
       "  0.126617,\n",
       "  0.156408,\n",
       "  0.177086,\n",
       "  0.154636,\n",
       "  0.162346,\n",
       "  0.121401,\n",
       "  0.287229,\n",
       "  0.293637,\n",
       "  0.199281,\n",
       "  0.132058,\n",
       "  0.181151,\n",
       "  0.122552,\n",
       "  0.150279,\n",
       "  0.150517,\n",
       "  0.139639,\n",
       "  0.150359,\n",
       "  0.18888,\n",
       "  0.352253,\n",
       "  0.126882,\n",
       "  0.126712,\n",
       "  0.693226,\n",
       "  2.395714,\n",
       "  0.541811,\n",
       "  2.949577,\n",
       "  0.142991,\n",
       "  0.142417,\n",
       "  0.121871,\n",
       "  0.377389,\n",
       "  0.139604,\n",
       "  0.144713,\n",
       "  0.140198,\n",
       "  0.670992,\n",
       "  2.715376,\n",
       "  0.148946,\n",
       "  0.134404,\n",
       "  0.179106,\n",
       "  0.139935,\n",
       "  0.186537,\n",
       "  0.120219,\n",
       "  0.280729,\n",
       "  0.238439,\n",
       "  0.206839,\n",
       "  0.173046,\n",
       "  1.231838,\n",
       "  0.128092,\n",
       "  0.18206,\n",
       "  0.146449,\n",
       "  0.123208,\n",
       "  0.194462,\n",
       "  0.126688,\n",
       "  0.122862,\n",
       "  0.156734,\n",
       "  0.121464,\n",
       "  0.194061,\n",
       "  0.404017,\n",
       "  1.758902,\n",
       "  0.173914,\n",
       "  0.33779,\n",
       "  0.147885,\n",
       "  0.144727,\n",
       "  0.13831,\n",
       "  0.13188,\n",
       "  0.150874,\n",
       "  0.166015,\n",
       "  0.221304,\n",
       "  0.186391,\n",
       "  0.20167,\n",
       "  0.358881,\n",
       "  0.878101,\n",
       "  0.501842,\n",
       "  0.378906,\n",
       "  0.167754,\n",
       "  0.443374,\n",
       "  0.136857,\n",
       "  0.188949,\n",
       "  0.280537,\n",
       "  0.146549,\n",
       "  0.148073,\n",
       "  0.172531,\n",
       "  0.290459,\n",
       "  0.184692,\n",
       "  0.22892,\n",
       "  0.153225,\n",
       "  0.229574,\n",
       "  0.528407,\n",
       "  0.385141,\n",
       "  0.19369,\n",
       "  0.195739,\n",
       "  0.179557,\n",
       "  0.243221,\n",
       "  0.309627,\n",
       "  0.172313,\n",
       "  0.195008,\n",
       "  0.394,\n",
       "  0.290602,\n",
       "  0.152346,\n",
       "  0.198781,\n",
       "  314.280449,\n",
       "  0.46073,\n",
       "  0.265246,\n",
       "  0.264643,\n",
       "  0.380416,\n",
       "  0.515497,\n",
       "  11.210934,\n",
       "  0.266168,\n",
       "  155698.162818,\n",
       "  0.165709,\n",
       "  0.200079,\n",
       "  0.277728,\n",
       "  0.436008,\n",
       "  0.354766,\n",
       "  0.441452,\n",
       "  0.711182,\n",
       "  0.873609,\n",
       "  0.599185],\n",
       " [0.155138,\n",
       "  0.116778,\n",
       "  0.12661,\n",
       "  0.128731,\n",
       "  0.127626,\n",
       "  0.102504,\n",
       "  0.123047,\n",
       "  0.122114,\n",
       "  0.1432,\n",
       "  0.163778,\n",
       "  0.152555,\n",
       "  0.158381,\n",
       "  0.284662,\n",
       "  0.157877,\n",
       "  0.145267,\n",
       "  0.152703,\n",
       "  0.144663,\n",
       "  0.431581,\n",
       "  0.222247,\n",
       "  0.227433,\n",
       "  0.114656,\n",
       "  0.129206,\n",
       "  0.150042,\n",
       "  0.141643,\n",
       "  0.212967,\n",
       "  0.150688,\n",
       "  0.150028,\n",
       "  0.182808,\n",
       "  0.1396,\n",
       "  0.170532,\n",
       "  0.288667,\n",
       "  0.247865,\n",
       "  0.138779,\n",
       "  0.144232,\n",
       "  0.169232,\n",
       "  0.422879,\n",
       "  0.176135,\n",
       "  0.169078,\n",
       "  0.216171,\n",
       "  0.517782,\n",
       "  0.177275,\n",
       "  0.145333,\n",
       "  0.287818,\n",
       "  0.13318,\n",
       "  0.154087,\n",
       "  0.205208,\n",
       "  0.126394,\n",
       "  0.184052,\n",
       "  0.220053,\n",
       "  0.219852,\n",
       "  0.178786,\n",
       "  0.118087,\n",
       "  0.143443,\n",
       "  0.210502,\n",
       "  0.307894,\n",
       "  0.150665,\n",
       "  0.216275,\n",
       "  0.179018,\n",
       "  0.187757,\n",
       "  0.421855,\n",
       "  0.394174,\n",
       "  0.236518,\n",
       "  0.21752,\n",
       "  0.157547,\n",
       "  0.180666,\n",
       "  0.228169,\n",
       "  0.134756,\n",
       "  0.156155,\n",
       "  0.159447,\n",
       "  0.193843,\n",
       "  0.232053,\n",
       "  0.407568,\n",
       "  0.158307,\n",
       "  0.183482,\n",
       "  0.473421,\n",
       "  0.292497,\n",
       "  0.176677,\n",
       "  0.16628,\n",
       "  0.251782,\n",
       "  0.654653,\n",
       "  0.229348,\n",
       "  0.234967,\n",
       "  0.193114,\n",
       "  0.204442,\n",
       "  0.26207,\n",
       "  0.40041,\n",
       "  0.17548,\n",
       "  0.31491,\n",
       "  0.241535,\n",
       "  0.406203,\n",
       "  0.245405,\n",
       "  0.454937,\n",
       "  0.426132,\n",
       "  0.535761,\n",
       "  0.284919,\n",
       "  0.374625,\n",
       "  0.355245,\n",
       "  0.716203,\n",
       "  0.780579,\n",
       "  0.208207,\n",
       "  0.17019,\n",
       "  0.366644,\n",
       "  0.175396,\n",
       "  0.233852,\n",
       "  0.347355,\n",
       "  0.56159,\n",
       "  0.446971,\n",
       "  0.239027,\n",
       "  0.383551,\n",
       "  0.39846,\n",
       "  0.434876,\n",
       "  377.048619,\n",
       "  0.232499,\n",
       "  0.592002,\n",
       "  1.020236,\n",
       "  140.620422,\n",
       "  0.928986,\n",
       "  2.253036,\n",
       "  1.221982,\n",
       "  0.358104],\n",
       " [0.346141,\n",
       "  0.126493,\n",
       "  0.232719,\n",
       "  0.238831,\n",
       "  0.533768,\n",
       "  0.188422,\n",
       "  0.164443,\n",
       "  0.111469,\n",
       "  0.124369,\n",
       "  0.183733,\n",
       "  0.174009,\n",
       "  1.207103,\n",
       "  0.178404,\n",
       "  0.160823,\n",
       "  0.419122,\n",
       "  0.168924,\n",
       "  0.48638,\n",
       "  1.940147,\n",
       "  1.054747,\n",
       "  0.444476,\n",
       "  0.143227,\n",
       "  0.190152,\n",
       "  0.128443,\n",
       "  0.163491,\n",
       "  0.145766,\n",
       "  0.167313,\n",
       "  0.134134,\n",
       "  0.315398,\n",
       "  0.119561,\n",
       "  0.121162,\n",
       "  0.157211,\n",
       "  0.136142,\n",
       "  0.125205,\n",
       "  0.123914,\n",
       "  0.204492,\n",
       "  0.169006,\n",
       "  0.238921,\n",
       "  0.173151,\n",
       "  0.159633,\n",
       "  0.169391,\n",
       "  0.19171,\n",
       "  0.190402,\n",
       "  0.22644,\n",
       "  0.137071,\n",
       "  0.188586,\n",
       "  0.161944,\n",
       "  0.200288,\n",
       "  0.34875,\n",
       "  0.367707,\n",
       "  0.166865,\n",
       "  0.1757,\n",
       "  0.254287,\n",
       "  0.309064,\n",
       "  0.258911,\n",
       "  0.188599,\n",
       "  0.197061,\n",
       "  0.17424,\n",
       "  0.231286,\n",
       "  0.239462,\n",
       "  0.174401,\n",
       "  0.123934,\n",
       "  0.196698,\n",
       "  0.20679,\n",
       "  0.207468,\n",
       "  0.164942,\n",
       "  0.184099,\n",
       "  0.234553,\n",
       "  0.207812,\n",
       "  0.177471,\n",
       "  0.205813,\n",
       "  0.209268,\n",
       "  0.310699,\n",
       "  0.156819,\n",
       "  0.981531,\n",
       "  2.348019,\n",
       "  0.299573,\n",
       "  0.196198,\n",
       "  0.152875,\n",
       "  0.1533,\n",
       "  0.286486,\n",
       "  0.297551,\n",
       "  0.229503,\n",
       "  0.480788,\n",
       "  0.567657,\n",
       "  0.208914,\n",
       "  0.242036,\n",
       "  0.19933,\n",
       "  0.151604,\n",
       "  0.210875,\n",
       "  0.202805,\n",
       "  0.178697,\n",
       "  0.255081,\n",
       "  0.308662,\n",
       "  0.714239,\n",
       "  0.235588,\n",
       "  0.197312,\n",
       "  0.208677,\n",
       "  0.300211,\n",
       "  0.184798,\n",
       "  0.167572,\n",
       "  0.425661,\n",
       "  0.169946,\n",
       "  0.162101,\n",
       "  0.594799,\n",
       "  0.288718,\n",
       "  0.176774,\n",
       "  1411146.088172,\n",
       "  0.19115,\n",
       "  0.888952,\n",
       "  0.433593,\n",
       "  0.337161,\n",
       "  0.302926,\n",
       "  1630.087266,\n",
       "  0.522666,\n",
       "  0.679091,\n",
       "  0.265519,\n",
       "  0.474145,\n",
       "  0.508296,\n",
       "  0.273989,\n",
       "  0.644115,\n",
       "  0.354855,\n",
       "  0.352437,\n",
       "  0.270673,\n",
       "  1.048324,\n",
       "  346042.972035,\n",
       "  0.338227,\n",
       "  1144606.611946,\n",
       "  1.104609,\n",
       "  0.879106]]"
      ]
     },
     "execution_count": 9,
     "metadata": {},
     "output_type": "execute_result"
    }
   ],
   "source": [
    "errorsToFit"
   ]
  },
  {
   "cell_type": "code",
   "execution_count": 10,
   "id": "70915a6a",
   "metadata": {},
   "outputs": [],
   "source": [
    "def l(x,a):\n",
    "    return a*x\n",
    "\n",
    "popt,pcov = curve_fit(l,gvE,mE,sigma=mEerr,absolute_sigma = True)"
   ]
  },
  {
   "cell_type": "code",
   "execution_count": 11,
   "id": "3b17b465",
   "metadata": {},
   "outputs": [
    {
     "data": {
      "text/plain": [
       "<matplotlib.legend.Legend at 0x7f8adf0f3a90>"
      ]
     },
     "execution_count": 11,
     "metadata": {},
     "output_type": "execute_result"
    },
    {
     "data": {
      "image/png": "[encoded data removed]",
      "text/plain": [
       "<Figure size 576x576 with 1 Axes>"
      ]
     },
     "metadata": {
      "needs_background": "light"
     },
     "output_type": "display_data"
    }
   ],
   "source": [
    "gvElinspace = np.linspace(1500,2700,1000)\n",
    "fig, ax = plt.subplots(figsize = [8,8])\n",
    "ax.errorbar(gvE,mE,yerr=mEerr,fmt='.',capsize=3, label = 'Data')\n",
    "ax.plot(gvElinspace,l(gvElinspace,*popt), label = r'y = a $\\cdot$ x with a=' + str(np.round(popt[0],4)))# + \", b=\" + str(np.round(popt[1],4)))\n",
    "ax.set_xlabel('GV energy [keV]')\n",
    "ax.set_ylabel('Fitted accelerator energy [keV]')\n",
    "ax.legend()"
   ]
  },
  {
   "cell_type": "code",
   "execution_count": 12,
   "id": "3d9a1288",
   "metadata": {},
   "outputs": [
    {
     "data": {
      "text/plain": [
       "1.1690594459453967"
      ]
     },
     "execution_count": 12,
     "metadata": {},
     "output_type": "execute_result"
    }
   ],
   "source": [
    "popt[0]"
   ]
  },
  {
   "cell_type": "code",
   "execution_count": 13,
   "id": "ccfae23c",
   "metadata": {},
   "outputs": [
    {
     "data": {
      "text/plain": [
       "array([[5.200356e-06]])"
      ]
     },
     "execution_count": 13,
     "metadata": {},
     "output_type": "execute_result"
    }
   ],
   "source": [
    "np.sqrt(pcov)"
   ]
  },
  {
   "cell_type": "code",
   "execution_count": 14,
   "id": "162de311",
   "metadata": {},
   "outputs": [
    {
     "data": {
      "text/plain": [
       "Text(0.5, 1.0, 'Energy: 2500 keV')"
      ]
     },
     "execution_count": 14,
     "metadata": {},
     "output_type": "execute_result"
    },
    {
     "data": {
      "image/png": "[encoded data removed]",
      "text/plain": [
       "<Figure size 640x480 with 1 Axes>"
      ]
     },
     "metadata": {
      "needs_background": "light"
     },
     "output_type": "display_data"
    }
   ],
   "source": [
    "i = 0\n",
    "plt.figure(figsize=(8, 6), dpi=80)\n",
    "plt.plot(thetas[i],peakpos[i], '.', alpha=1)\n",
    "#plt.plot(vinkler,2000*np.array(factors))\n",
    "plt.plot(vinkler,Tb(vinkler/360*2*np.pi,mE[i]))\n",
    "plt.plot(anglesToFit[i],pointsToFit[i], '.')\n",
    "plt.ylim(energies[i]-1000,energies[i])\n",
    "plt.title('Energy: ' + str(energies[i]) + ' keV')"
   ]
  },
  {
   "cell_type": "code",
   "execution_count": 15,
   "id": "4fb7d150",
   "metadata": {},
   "outputs": [
    {
     "name": "stdout",
     "output_type": "stream",
     "text": [
      "1991.1151159024882\n"
     ]
    },
    {
     "data": {
      "image/png": "[encoded data removed]",
      "text/plain": [
       "<Figure size 640x480 with 1 Axes>"
      ]
     },
     "metadata": {
      "needs_background": "light"
     },
     "output_type": "display_data"
    }
   ],
   "source": [
    "i = 1\n",
    "plt.figure(figsize=(8, 6), dpi=80)\n",
    "plt.plot(thetas[i],peakpos[i], '.', alpha=1)\n",
    "#plt.plot(vinkler,2000*np.array(factors))\n",
    "plt.plot(vinkler,Tb(vinkler/360*2*np.pi,mE[i]))\n",
    "plt.plot(anglesToFit[i],pointsToFit[i], '.')\n",
    "plt.ylim(energies[i]-1000,energies[i])\n",
    "plt.title('Energy: ' + str(energies[i]) + ' keV')\n",
    "print(mE[i])"
   ]
  },
  {
   "cell_type": "code",
   "execution_count": 16,
   "id": "b48052b2",
   "metadata": {},
   "outputs": [
    {
     "data": {
      "text/plain": [
       "Text(0.5, 1.0, 'Energy: 3000 keV')"
      ]
     },
     "execution_count": 16,
     "metadata": {},
     "output_type": "execute_result"
    },
    {
     "data": {
      "image/png": "[encoded data removed]",
      "text/plain": [
       "<Figure size 640x480 with 1 Axes>"
      ]
     },
     "metadata": {
      "needs_background": "light"
     },
     "output_type": "display_data"
    }
   ],
   "source": [
    "i = 2\n",
    "plt.figure(figsize=(8, 6), dpi=80)\n",
    "plt.plot(thetas[i],peakpos[i], '.', alpha=1)\n",
    "#plt.plot(vinkler,2000*np.array(factors))\n",
    "plt.plot(vinkler,Tb(vinkler/360*2*np.pi,mE[i]))\n",
    "plt.plot(anglesToFit[i],pointsToFit[i], '.')\n",
    "plt.ylim(energies[i]-1000,energies[i])\n",
    "plt.title('Energy: ' + str(energies[i]) + ' keV')"
   ]
  },
  {
   "cell_type": "code",
   "execution_count": 17,
   "id": "d16b5be5",
   "metadata": {},
   "outputs": [
    {
     "data": {
      "text/plain": [
       "[2507.1185222082563, 1991.1151159024882, 2994.3512753133764]"
      ]
     },
     "execution_count": 17,
     "metadata": {},
     "output_type": "execute_result"
    }
   ],
   "source": [
    "mE"
   ]
  },
  {
   "cell_type": "code",
   "execution_count": null,
   "id": "f9d406a7",
   "metadata": {},
   "outputs": [],
   "source": []
  }
 ],
 "metadata": {
  "kernelspec": {
   "display_name": "Python 3 (ipykernel)",
   "language": "python",
   "name": "python3"
  },
  "language_info": {
   "codemirror_mode": {
    "name": "ipython",
    "version": 3
   },
   "file_extension": ".py",
   "mimetype": "text/x-python",
   "name": "python",
   "nbconvert_exporter": "python",
   "pygments_lexer": "ipython3",
   "version": "3.9.7"
  }
 },
 "nbformat": 4,
 "nbformat_minor": 5
}
